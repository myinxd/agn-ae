{
 "cells": [
  {
   "cell_type": "code",
   "execution_count": 1,
   "metadata": {
    "collapsed": true
   },
   "outputs": [],
   "source": [
    "# Generate new samplelist"
   ]
  },
  {
   "cell_type": "code",
   "execution_count": 2,
   "metadata": {
    "collapsed": true
   },
   "outputs": [],
   "source": [
    "import pickle\n",
    "from pandas import read_csv"
   ]
  },
  {
   "cell_type": "code",
   "execution_count": 5,
   "metadata": {
    "collapsed": true
   },
   "outputs": [],
   "source": [
    "# load csv\n",
    "f = read_csv(\"../out.csv\", sep=' ')\n",
    "ra = f['RAJ2000'] # RA\n",
    "dec = f['DEJ2000'] # DEC\n",
    "label = f['A']\n",
    "redshift = f['z']\n",
    "snvss = f['SNVSS']"
   ]
  },
  {
   "cell_type": "code",
   "execution_count": 4,
   "metadata": {
    "collapsed": true
   },
   "outputs": [],
   "source": [
    "import numpy as np\n",
    "from astropy import units as u\n",
    "from astropy.coordinates import SkyCoord\n",
    "def gen_rename(ra, dec):\n",
    "    # get params\n",
    "    temp_c = SkyCoord(ra=ra*u.degree, dec=dec*u.degree, frame='icrs')\n",
    "    # Coordinate transform\n",
    "    ra_rms = tuple(temp_c.ra.hms)\n",
    "    dec_dms = tuple(temp_c.dec.dms)\n",
    "    # save name\n",
    "    ra_h = \"%02d\" % (int(ra_rms[0]))\n",
    "    ra_m = \"%02d\" % (int(ra_rms[1]))\n",
    "    ra_s_i = np.fix(np.round(ra_rms[2]*100)/100)\n",
    "    ra_s_f = np.round(ra_rms[2]*100)/100 - ra_s_i\n",
    "    ra_s = \"%02d.%02d\" % (int(ra_s_i),int(ra_s_f*100))\n",
    "    if dec_dms[0] > 0:\n",
    "        de_d = \"+%02d\" % (int(dec_dms[0]))\n",
    "    else:\n",
    "        de_d = \"-%02d\" % (abs(int(dec_dms[0])))\n",
    "    de_m = \"%02d\" % (abs(int(dec_dms[1])))\n",
    "    de_s_i = np.fix(np.abs(np.round(dec_dms[2]*10)/10))\n",
    "    de_s_f = np.abs(np.round(dec_dms[2]*10)/10) - de_s_i\n",
    "    de_s = \"%02d.%01d\" % (int(de_s_i),np.round(de_s_f*10))\n",
    "    rename = 'J' + ''.join([ra_h,ra_m,ra_s,de_d,de_m,de_s])\n",
    "    \n",
    "    return rename"
   ]
  },
  {
   "cell_type": "code",
   "execution_count": 15,
   "metadata": {},
   "outputs": [],
   "source": [
    "# Generate labels\n",
    "sample_best = {\"name\":[], \"label\": [], \"redshift\":[], \"snvss\":[]}\n",
    "for i in range(len(ra)):\n",
    "    fname = gen_rename(ra=ra[i],dec=dec[i])\n",
    "    sample_best[\"name\"].append(fname)\n",
    "    sample_best[\"label\"].append(label[i])\n",
    "    sample_best[\"redshift\"].append(float(redshift[i]))\n",
    "    sample_best['snvss'].append(float(snvss[i]))"
   ]
  },
  {
   "cell_type": "code",
   "execution_count": 16,
   "metadata": {},
   "outputs": [],
   "source": [
    "fname = \"../sample-list-cross-match.csv\"\n",
    "samples = read_csv(fname, sep=\" \")\n",
    "# Count matched samples\n",
    "sample_match = samples[\"Match\"]\n",
    "sample_idx = samples[\"Index\"]\n",
    "match_idx = np.where(np.array(sample_match) != \"nomatching\")[0]\n",
    "\n",
    "name = np.array(sample_best[\"name\"])\n",
    "label = np.array(sample_best[\"label\"])\n",
    "redshift = np.array(sample_best[\"redshift\"])\n",
    "snvss = np.array(sample_best[\"snvss\"])"
   ]
  },
  {
   "cell_type": "code",
   "execution_count": 17,
   "metadata": {
    "collapsed": true
   },
   "outputs": [],
   "source": [
    "# Discard cross matched\n",
    "name_new = np.delete(name,np.array(sample_idx[match_idx]).astype(int))\n",
    "label_new = np.delete(label,np.array(sample_idx[match_idx]).astype(int))\n",
    "redshift_new = np.delete(redshift,np.array(sample_idx[match_idx]).astype(int))\n",
    "snvss_new = np.delete(snvss,np.array(sample_idx[match_idx]).astype(int))"
   ]
  },
  {
   "cell_type": "code",
   "execution_count": 27,
   "metadata": {
    "collapsed": true
   },
   "outputs": [],
   "source": [
    "# add redshift restriction\n",
    "z_max = 0.3\n",
    "idx_z = np.where(redshift_new <= z_max)[0]\n",
    "# remove\n",
    "name_z = name_new[idx_z]\n",
    "label_z = label_new[idx_z]\n",
    "redshift_z = redshift_new[idx_z]\n",
    "snvss_z = snvss_new[idx_z]"
   ]
  },
  {
   "cell_type": "code",
   "execution_count": 28,
   "metadata": {},
   "outputs": [
    {
     "data": {
      "text/plain": [
       "(17609,)"
      ]
     },
     "execution_count": 28,
     "metadata": {},
     "output_type": "execute_result"
    }
   ],
   "source": [
    "name_new.shape"
   ]
  },
  {
   "cell_type": "code",
   "execution_count": 29,
   "metadata": {},
   "outputs": [
    {
     "data": {
      "text/plain": [
       "(11671,)"
      ]
     },
     "execution_count": 29,
     "metadata": {},
     "output_type": "execute_result"
    }
   ],
   "source": [
    "name_z.shape"
   ]
  },
  {
   "cell_type": "code",
   "execution_count": 30,
   "metadata": {},
   "outputs": [
    {
     "data": {
      "text/plain": [
       "(11671,)"
      ]
     },
     "execution_count": 30,
     "metadata": {},
     "output_type": "execute_result"
    }
   ],
   "source": [
    "label_z.shape"
   ]
  },
  {
   "cell_type": "code",
   "execution_count": 31,
   "metadata": {},
   "outputs": [],
   "source": [
    "# save\n",
    "sample_bkp = {\"name\": list(name_z), \"label\": list(label_z),\n",
    "              \"redshift\":list(redshift_z), \"snvss\": list(snvss_z)}"
   ]
  },
  {
   "cell_type": "code",
   "execution_count": 32,
   "metadata": {
    "collapsed": true
   },
   "outputs": [],
   "source": [
    "with open(\"../sample-best-cross-discard-redshift.pkl\", 'wb') as fp:\n",
    "    pickle.dump(sample_bkp, fp)"
   ]
  },
  {
   "cell_type": "code",
   "execution_count": null,
   "metadata": {
    "collapsed": true
   },
   "outputs": [],
   "source": []
  }
 ],
 "metadata": {
  "kernelspec": {
   "display_name": "Python 3",
   "language": "python",
   "name": "python3"
  },
  "language_info": {
   "codemirror_mode": {
    "name": "ipython",
    "version": 3
   },
   "file_extension": ".py",
   "mimetype": "text/x-python",
   "name": "python",
   "nbconvert_exporter": "python",
   "pygments_lexer": "ipython3",
   "version": "3.4.3"
  }
 },
 "nbformat": 4,
 "nbformat_minor": 2
}
