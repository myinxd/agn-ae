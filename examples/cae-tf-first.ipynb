{
 "cells": [
  {
   "cell_type": "code",
   "execution_count": 1,
   "metadata": {
    "collapsed": true
   },
   "outputs": [],
   "source": [
    "# CAE on MNIST dataset"
   ]
  },
  {
   "cell_type": "code",
   "execution_count": 2,
   "metadata": {
    "collapsed": true
   },
   "outputs": [],
   "source": [
    "import numpy as np\n",
    "import matplotlib\n",
    "matplotlib.use('Agg')\n",
    "import matplotlib.pyplot as plt\n",
    "%matplotlib inline\n",
    "from IPython.display import Image as IPImage\n",
    "from PIL import Image\n",
    "\n",
    "import sys\n",
    "sys.setrecursionlimit(1000000)"
   ]
  },
  {
   "cell_type": "code",
   "execution_count": 3,
   "metadata": {
    "collapsed": true
   },
   "outputs": [],
   "source": [
    "from ConvAE import ConvAE"
   ]
  },
  {
   "cell_type": "code",
   "execution_count": 4,
   "metadata": {
    "collapsed": true
   },
   "outputs": [],
   "source": [
    "# load data\n",
    "import pickle\n",
    "fname = 'first/sample_50_28_sort.pkl'\n",
    "with open(fname, 'rb') as fp:\n",
    "    datadict = pickle.load(fp)\n",
    "X = datadict['data'].astype('float32')\n",
    "# Norm\n",
    "X_train = (X - X.min()) / (X.max() - X.min())"
   ]
  },
  {
   "cell_type": "code",
   "execution_count": 5,
   "metadata": {
    "collapsed": true
   },
   "outputs": [],
   "source": [
    "X_in = X_train.reshape(-1,28,28,1)\n",
    "X_mean = np.mean(X_train)\n",
    "X_w = X_in - X_mean\n",
    "X_tr = X_w[0:12000]\n",
    "X_te = X_w[12000:] "
   ]
  },
  {
   "cell_type": "code",
   "execution_count": 6,
   "metadata": {},
   "outputs": [
    {
     "name": "stdout",
     "output_type": "stream",
     "text": [
      "[[None, 28, 28, 1], [None, 14, 14, 10], [None, 7, 7, 10]]\n"
     ]
    }
   ],
   "source": [
    "cae = ConvAE(X_in = X_tr)\n",
    "cae.cae_build()"
   ]
  },
  {
   "cell_type": "code",
   "execution_count": 7,
   "metadata": {},
   "outputs": [
    {
     "name": "stdout",
     "output_type": "stream",
     "text": [
      "0 1092.4\n",
      "1 899.951\n",
      "2 1090.28\n",
      "3 1025.17\n",
      "4 1087.21\n",
      "5 895.483\n",
      "6 1147.0\n",
      "7 999.312\n",
      "8 1021.18\n",
      "9 937.385\n",
      "10 308.198\n",
      "11 276.165\n",
      "12 269.614\n",
      "13 234.38\n",
      "14 218.02\n",
      "15 187.093\n",
      "16 237.593\n",
      "17 182.931\n",
      "18 175.066\n",
      "19 162.936\n"
     ]
    }
   ],
   "source": [
    "# train\n",
    "num_epochs = 20\n",
    "learning_rate = 0.002\n",
    "batch_size = 100\n",
    "cae.cae_train(num_epochs=num_epochs, learning_rate=learning_rate, batch_size=batch_size)"
   ]
  },
  {
   "cell_type": "code",
   "execution_count": 8,
   "metadata": {},
   "outputs": [
    {
     "name": "stdout",
     "output_type": "stream",
     "text": [
      "(14, 28, 28, 1)\n"
     ]
    },
    {
     "name": "stderr",
     "output_type": "stream",
     "text": [
      "/home/mzx/.local/lib/python3.4/site-packages/ipykernel/__main__.py:9: RuntimeWarning: invalid value encountered in true_divide\n",
      "/home/mzx/.local/lib/python3.4/site-packages/matplotlib/figure.py:397: UserWarning: matplotlib is currently using a non-GUI backend, so cannot show the figure\n",
      "  \"matplotlib is currently using a non-GUI backend, \"\n",
      "/home/mzx/.local/lib/python3.4/site-packages/matplotlib/colors.py:943: UserWarning: Warning: converting a masked element to nan.\n",
      "  vmin = float(vmin)\n",
      "/home/mzx/.local/lib/python3.4/site-packages/matplotlib/colors.py:944: UserWarning: Warning: converting a masked element to nan.\n",
      "  vmax = float(vmax)\n"
     ]
    },
    {
     "data": {
      "image/png": "[encoded data removed]",
      "text/plain": [
       "<matplotlib.figure.Figure at 0x7fe0bf6d9a58>"
      ]
     },
     "metadata": {},
     "output_type": "display_data"
    }
   ],
   "source": [
    "n_examples = 14\n",
    "idx = np.random.permutation(len(X_te))\n",
    "test_xs = X_te[idx[0:n_examples],:,:,:].astype('float32')\n",
    "\n",
    "recon = cae.cae_test(img=test_xs)\n",
    "print(recon.shape)\n",
    "\n",
    "def gen_norm(img):\n",
    "    return (img-img.min())/(img.max() - img.min())\n",
    "\n",
    "fig, axs = plt.subplots(3, n_examples, figsize=(10, 2))\n",
    "for example_i in range(n_examples):\n",
    "    # raw\n",
    "    axs[0][example_i].imshow(\n",
    "        np.reshape(test_xs[example_i, :], (28, 28)), cmap='gray')\n",
    "    axs[0][example_i].axis('off')\n",
    "    # learned\n",
    "    axs[1][example_i].imshow(\n",
    "        np.reshape(\n",
    "            np.reshape(recon[example_i, ...], (784,)),\n",
    "            (28, 28)), cmap='gray')\n",
    "    axs[1][example_i].axis('off')\n",
    "    # residual\n",
    "    norm_raw = gen_norm(np.reshape(test_xs[example_i, :], (28, 28)))\n",
    "    norm_est = gen_norm(np.reshape(np.reshape(recon[example_i, ...], (784,)),(28, 28)))\n",
    "    axs[2][example_i].imshow(norm_raw - norm_est, cmap='gray')\n",
    "    axs[2][example_i].axis('off')\n",
    "\n",
    "fig.show()\n",
    "plt.draw()"
   ]
  }
 ],
 "metadata": {
  "kernelspec": {
   "display_name": "Python 3",
   "language": "python",
   "name": "python3"
  },
  "language_info": {
   "codemirror_mode": {
    "name": "ipython",
    "version": 3
   },
   "file_extension": ".py",
   "mimetype": "text/x-python",
   "name": "python",
   "nbconvert_exporter": "python",
   "pygments_lexer": "ipython3",
   "version": "3.4.3"
  }
 },
 "nbformat": 4,
 "nbformat_minor": 2
}
