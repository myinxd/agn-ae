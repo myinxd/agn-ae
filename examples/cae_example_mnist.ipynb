{
 "cells": [
  {
   "cell_type": "code",
   "execution_count": 1,
   "metadata": {},
   "outputs": [],
   "source": [
    "# Copyright (C) 2017 Zhixian MA <zxma_sjtu@qq.com>\n",
    "\n",
    "# Do MNIST feature learning by our code agn-ae"
   ]
  },
  {
   "cell_type": "code",
   "execution_count": 2,
   "metadata": {},
   "outputs": [],
   "source": [
    "import numpy as np\n",
    "import matplotlib\n",
    "matplotlib.use('Agg') # Change matplotlib backend, in case we have no X server running..\n",
    "import matplotlib.pyplot as plt\n",
    "%matplotlib inline\n",
    "from IPython.display import Image as IPImage\n",
    "from PIL import Image\n",
    "\n",
    "import sys   \n",
    "sys.setrecursionlimit(1000000)"
   ]
  },
  {
   "cell_type": "code",
   "execution_count": 3,
   "metadata": {},
   "outputs": [
    {
     "name": "stderr",
     "output_type": "stream",
     "text": [
      "Using gpu device 0: GeForce 940MX (CNMeM is disabled, cuDNN 5105)\n"
     ]
    }
   ],
   "source": [
    "from ConvAE import ConvAE\n",
    "import utils"
   ]
  },
  {
   "cell_type": "code",
   "execution_count": 4,
   "metadata": {
    "collapsed": true
   },
   "outputs": [],
   "source": [
    "# load data\n",
    "import pickle\n",
    "fname = 'mnist/mnist.pkl'\n",
    "fp = open(fname, 'rb')\n",
    "train,valid,test = pickle.load(fp,encoding='latin1')\n",
    "fp.close()"
   ]
  },
  {
   "cell_type": "code",
   "execution_count": 5,
   "metadata": {},
   "outputs": [
    {
     "name": "stdout",
     "output_type": "stream",
     "text": [
      "X_train type and shape: float32 (50000, 784)\n",
      "X_train.min(): 0.0\n",
      "X_train.max(): 0.996094\n",
      "X_test type and shape: float32 (10000, 784)\n",
      "X_test.min(): 0.0\n",
      "X_test.max(): 0.996094\n"
     ]
    }
   ],
   "source": [
    "X_train, y_train = train\n",
    "X_test, y_test = test\n",
    "# randomly select 10000 samples\n",
    "\n",
    "print('X_train type and shape:', X_train.dtype, X_train.shape)\n",
    "print('X_train.min():', X_train.min())\n",
    "print('X_train.max():', X_train.max())\n",
    "\n",
    "print('X_test type and shape:', X_test.dtype, X_test.shape)\n",
    "print('X_test.min():', X_test.min())\n",
    "print('X_test.max():', X_test.max())"
   ]
  },
  {
   "cell_type": "code",
   "execution_count": 6,
   "metadata": {},
   "outputs": [],
   "source": [
    "# define the net\n",
    "idx = np.random.permutation(X_train.shape[0])\n",
    "X = X_train[idx[0:10000],:]\n",
    "X_in = X.reshape(-1,1,28,28)\n",
    "X_out = X\n",
    "kernel_size = [3, 3, 3]\n",
    "kernel_num = [16, 16, 32]\n",
    "pool_flag = [False, True, True]\n",
    "fc_nodes = [128]\n",
    "encode_nodes = 16\n",
    "net = ConvAE(X_in=X_in, X_out=X_out, kernel_size=kernel_size, pool_flag=pool_flag,\n",
    "             kernel_num=kernel_num, fc_nodes=fc_nodes, encode_nodes = 16)"
   ]
  },
  {
   "cell_type": "code",
   "execution_count": 7,
   "metadata": {},
   "outputs": [
    {
     "data": {
      "text/plain": [
       "[(lasagne.layers.input.InputLayer, {'shape': (None, 1, 28, 28)}),\n",
       " (lasagne.layers.conv.Conv2DLayer,\n",
       "  {'filter_size': 3, 'num_filters': 16, 'pad': 'valid'}),\n",
       " (lasagne.layers.conv.Conv2DLayer,\n",
       "  {'filter_size': 3, 'num_filters': 16, 'pad': 'valid'}),\n",
       " (lasagne.layers.pool.MaxPool2DLayer, {'pool_size': 2}),\n",
       " (lasagne.layers.conv.Conv2DLayer,\n",
       "  {'filter_size': 3, 'num_filters': 32, 'pad': 'valid'}),\n",
       " (lasagne.layers.pool.MaxPool2DLayer, {'pool_size': 2}),\n",
       " (lasagne.layers.shape.ReshapeLayer, {'shape': ([0], -1)}),\n",
       " (lasagne.layers.dense.DenseLayer, {'num_units': 128}),\n",
       " (lasagne.layers.dense.DenseLayer, {'name': 'encode', 'num_units': 16}),\n",
       " (lasagne.layers.dense.DenseLayer, {'num_units': 128}),\n",
       " (lasagne.layers.dense.DenseLayer, {'num_units': 800}),\n",
       " (lasagne.layers.shape.ReshapeLayer, {'shape': ([0], 32, 5, 5)}),\n",
       " (lasagne.layers.pool.Upscale2DLayer, {'scale_factor': 2}),\n",
       " (lasagne.layers.conv.Conv2DLayer,\n",
       "  {'filter_size': 3, 'num_filters': 32, 'pad': 'full'}),\n",
       " (lasagne.layers.pool.Upscale2DLayer, {'scale_factor': 2}),\n",
       " (lasagne.layers.conv.Conv2DLayer,\n",
       "  {'filter_size': 3, 'num_filters': 16, 'pad': 'full'}),\n",
       " (lasagne.layers.conv.Conv2DLayer,\n",
       "  {'filter_size': 3, 'num_filters': 1, 'pad': 'full'}),\n",
       " (lasagne.layers.shape.ReshapeLayer, {'shape': ([0], -1)})]"
      ]
     },
     "execution_count": 7,
     "metadata": {},
     "output_type": "execute_result"
    }
   ],
   "source": [
    "# generate layers\n",
    "net.gen_layers()\n",
    "net.layers"
   ]
  },
  {
   "cell_type": "code",
   "execution_count": 8,
   "metadata": {
    "collapsed": true
   },
   "outputs": [],
   "source": [
    "# Build the network and initilization\n",
    "net.cae_build(learning_rate=0.01, momentum=0.975)"
   ]
  },
  {
   "cell_type": "code",
   "execution_count": 9,
   "metadata": {},
   "outputs": [
    {
     "name": "stdout",
     "output_type": "stream",
     "text": [
      "Training the network...\n",
      "# Neural Network with 231105 learnable parameters\n",
      "\n",
      "## Layer information\n",
      "\n",
      "  #  name         size\n",
      "---  -----------  --------\n",
      "  0  input0       1x28x28\n",
      "  1  conv2d1      16x26x26\n",
      "  2  conv2d2      16x24x24\n",
      "  3  maxpool2d3   16x12x12\n",
      "  4  conv2d4      32x10x10\n",
      "  5  maxpool2d5   32x5x5\n",
      "  6  reshape6     800\n",
      "  7  dense7       128\n",
      "  8  encode       16\n",
      "  9  dense9       128\n",
      " 10  dense10      800\n",
      " 11  reshape11    32x5x5\n",
      " 12  upscale2d12  32x10x10\n",
      " 13  conv2d13     32x12x12\n",
      " 14  upscale2d14  32x24x24\n",
      " 15  conv2d15     16x26x26\n",
      " 16  conv2d16     1x28x28\n",
      " 17  reshape17    784\n",
      "\n",
      "  epoch    trn loss    val loss    trn/val  dur\n",
      "-------  ----------  ----------  ---------  -----\n",
      "      1     \u001b[36m0.08122\u001b[0m     \u001b[32m0.06612\u001b[0m    1.22835  5.71s\n",
      "      2     \u001b[36m0.06422\u001b[0m     \u001b[32m0.06280\u001b[0m    1.02253  5.68s\n",
      "      3     \u001b[36m0.06179\u001b[0m     \u001b[32m0.06079\u001b[0m    1.01660  5.68s\n",
      "      4     \u001b[36m0.05884\u001b[0m     \u001b[32m0.05648\u001b[0m    1.04181  5.68s\n",
      "      5     \u001b[36m0.05437\u001b[0m     \u001b[32m0.05266\u001b[0m    1.03248  5.68s\n",
      "      6     \u001b[36m0.05095\u001b[0m     \u001b[32m0.04931\u001b[0m    1.03332  6.12s\n",
      "      7     \u001b[36m0.04734\u001b[0m     \u001b[32m0.04552\u001b[0m    1.04004  7.63s\n",
      "      8     \u001b[36m0.04378\u001b[0m     \u001b[32m0.04256\u001b[0m    1.02868  5.90s\n",
      "      9     \u001b[36m0.04125\u001b[0m     \u001b[32m0.04033\u001b[0m    1.02279  5.67s\n",
      "     10     \u001b[36m0.03913\u001b[0m     \u001b[32m0.03839\u001b[0m    1.01918  5.68s\n",
      "     11     \u001b[36m0.03727\u001b[0m     \u001b[32m0.03674\u001b[0m    1.01458  5.68s\n",
      "     12     \u001b[36m0.03572\u001b[0m     \u001b[32m0.03539\u001b[0m    1.00945  5.74s\n",
      "     13     \u001b[36m0.03444\u001b[0m     \u001b[32m0.03424\u001b[0m    1.00581  6.01s\n",
      "     14     \u001b[36m0.03333\u001b[0m     \u001b[32m0.03321\u001b[0m    1.00367  5.69s\n",
      "     15     \u001b[36m0.03233\u001b[0m     \u001b[32m0.03225\u001b[0m    1.00257  5.67s\n",
      "     16     \u001b[36m0.03140\u001b[0m     \u001b[32m0.03129\u001b[0m    1.00332  5.68s\n",
      "     17     \u001b[36m0.03047\u001b[0m     \u001b[32m0.03031\u001b[0m    1.00520  5.68s\n",
      "     18     \u001b[36m0.02957\u001b[0m     \u001b[32m0.02940\u001b[0m    1.00574  5.67s\n",
      "     19     \u001b[36m0.02875\u001b[0m     \u001b[32m0.02861\u001b[0m    1.00477  5.67s\n",
      "     20     \u001b[36m0.02805\u001b[0m     \u001b[32m0.02797\u001b[0m    1.00294  5.68s\n",
      "Trainong done.\n"
     ]
    }
   ],
   "source": [
    "# Train the network\n",
    "net.cae_train()"
   ]
  },
  {
   "cell_type": "code",
   "execution_count": 10,
   "metadata": {},
   "outputs": [],
   "source": [
    "# save result\n",
    "net.cae_save('mnist/net.pkl')"
   ]
  },
  {
   "cell_type": "code",
   "execution_count": 11,
   "metadata": {},
   "outputs": [
    {
     "data": {
      "image/png": "[encoded data removed]",
      "text/plain": [
       "<matplotlib.figure.Figure at 0x7fc0363d74e0>"
      ]
     },
     "metadata": {},
     "output_type": "display_data"
    }
   ],
   "source": [
    "# Plot the loss curve\n",
    "net.cae_eval()"
   ]
  },
  {
   "cell_type": "code",
   "execution_count": 12,
   "metadata": {},
   "outputs": [
    {
     "data": {
      "text/plain": [
       "<matplotlib.image.AxesImage at 0x7fbfecf841d0>"
      ]
     },
     "execution_count": 12,
     "metadata": {},
     "output_type": "execute_result"
    },
    {
     "data": {
      "image/png": "[encoded data removed]",
      "text/plain": [
       "<matplotlib.figure.Figure at 0x7fbfecf7d2e8>"
      ]
     },
     "metadata": {},
     "output_type": "display_data"
    }
   ],
   "source": [
    "# from imp import reload\n",
    "# reload(utils)\n",
    "# Test the network\n",
    "imgs = X_test.reshape(-1,28,28)\n",
    "img_small = imgs[30,:,:]\n",
    "\n",
    "# encode\n",
    "img_en = utils.get_encode(net.cae, img_small)\n",
    "# decode\n",
    "img_de = utils.get_decode(net.cae, img_en)\n",
    "\n",
    "# Compare\n",
    "img_pre = np.rint(img_de.reshape(28,28) * 256).astype(int)\n",
    "img_pre = np.clip(img_pre, a_min = 0, a_max = 255)\n",
    "img_pre = img_pre.astype('uint8')\n",
    "plt.imshow(img_pre)\n",
    "\n",
    "# img_pre = utils.get_predict(net.cae, img_small)"
   ]
  },
  {
   "cell_type": "code",
   "execution_count": 13,
   "metadata": {},
   "outputs": [
    {
     "data": {
      "image/png": "[encoded data removed]",
      "text/plain": [
       "<IPython.core.display.Image object>"
      ]
     },
     "execution_count": 13,
     "metadata": {},
     "output_type": "execute_result"
    }
   ],
   "source": [
    "def get_picture_array(X, rescale=4):\n",
    "    array = X.reshape(28,28)\n",
    "    array = np.clip(array, a_min = 0, a_max = 255)\n",
    "    return  array.repeat(rescale, axis = 0).repeat(rescale, axis = 1).astype(np.uint8())\n",
    "\n",
    "def compare_images(img, img_pre):\n",
    "    original_image = Image.fromarray(get_picture_array(255 * img))\n",
    "    new_size = (original_image.size[0] * 2, original_image.size[1])\n",
    "    new_im = Image.new('L', new_size)\n",
    "    new_im.paste(original_image, (0,0))\n",
    "    rec_image = Image.fromarray(get_picture_array(img_pre))\n",
    "    new_im.paste(rec_image, (original_image.size[0],0))\n",
    "    new_im.save('mnist/test.png', format=\"PNG\")\n",
    "    return IPImage('mnist/test.png')\n",
    "\n",
    "compare_images(img_small, img_pre)"
   ]
  }
 ],
 "metadata": {
  "kernelspec": {
   "display_name": "Python 3",
   "language": "python",
   "name": "python3"
  },
  "language_info": {
   "codemirror_mode": {
    "name": "ipython",
    "version": 3
   },
   "file_extension": ".py",
   "mimetype": "text/x-python",
   "name": "python",
   "nbconvert_exporter": "python",
   "pygments_lexer": "ipython3",
   "version": "3.5.2+"
  }
 },
 "nbformat": 4,
 "nbformat_minor": 2
}
