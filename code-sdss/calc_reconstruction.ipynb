{
 "cells": [
  {
   "cell_type": "code",
   "execution_count": 1,
   "metadata": {
    "collapsed": true
   },
   "outputs": [],
   "source": [
    "# Applying kcorrect_python to SDSS observed ugriz data\n",
    "# Download\n",
    "# 1. kcorrect package: http://cosmo.nyu.edu/blanton/kcorrect/kcorrect.v4_3.tar.gz\n",
    "# 2. kocrrect_python: https://pypi.python.org/pypi/kcorrect_python/2017.07.05\n",
    "# Installation\n",
    "# 1. see kcorrect install\n",
    "# 2. see kocrrect_python readme\n",
    "\n",
    "# Some physics links\n",
    "# Measures of flux and measurements: http://www.sdss.org/dr12/algorithms/magnitudes/\n",
    "# kcorrect: http://kcorrect.org"
   ]
  },
  {
   "cell_type": "markdown",
   "metadata": {},
   "source": [
    "Given the excellent agreement between cmodel magnitudes (see cmodel magnitudes above) and PSF magnitudes for point sources, and between cmodel magnitudes and Petrosian magnitudes (albeit with intrinsic offsets due to aperture corrections) for galaxies, the cmodel magnitude is now an adequate proxy to use as a universal magnitude for all types of objects. As it is approximately a matched aperture to a galaxy, it has the great advantage over Petrosian magnitudes, in particular, of having close to optimal noise properties."
   ]
  },
  {
   "cell_type": "markdown",
   "metadata": {},
   "source": [
    "A \"maggy\" is the flux f of the source relative to the standard source f0 (which defines the zeropoint of the magnitude scale). Therefore, a \"nanomaggy\" is 10^-9 times a maggy. \n",
    "To relate these quantities to standard magnitudes, an object with flux f given in nMgy has a Progson magnitude:\n",
    "m = [22.5 mag] - 2.5log10f\n",
    "- Note that magnitudes listed in the SDSS catalog, however, are not standard Pogson magnitudes, but asinh magnitudes.\n",
    "- Magnitudes within the SDSS are expressed as inverse hyperbolic sine (asinh) magnitudes, sometimes referred to informally as luptitudes. "
   ]
  },
  {
   "cell_type": "markdown",
   "metadata": {},
   "source": [
    "The relation between detected flux f and asinh magnitude m is:\n",
    "    m = -2.5 / ln(10) * [asinh((f/f0) / (2b)) + ln(b)]\n",
    "\n",
    "Here f0 is given by the classical zero point of the magnitude scale, i.e., f0 is the flux of an object with conventional magnitude of zero.\n",
    "\n",
    "Asinh softening parameters\n",
    "\n",
    "| Filter | b      | zero-flux magnitude [m(f/f0 = 0)] | m(f/f0 = 10b) |\n",
    "|:-------|:------:|:-------:|:--------:|\n",
    "|  u     | 1.4e-10| 24.63 | 22.12 |\n",
    "|  g     | 0.9e-10| 25.11 | 22.60 |\n",
    "|  r     | 1.2e-10| 24.80 | 22.29 |\n",
    "|  i     | 1.8e-10| 24.36 | 21.85 |\n",
    "|  z     | 7.4e-10| 22.83 | 20.32 |\n"
   ]
  },
  {
   "cell_type": "markdown",
   "metadata": {},
   "source": [
    "SDSS ugriz magnitudes to AB ugriz magnitudes\n",
    "- u: u_AB = u_SDSS - 0.04 mag\n",
    "- g,r,i are close to AB\n",
    "- z: z_AB = z_SDSS + 0.02 mag"
   ]
  },
  {
   "cell_type": "markdown",
   "metadata": {},
   "source": [
    "## maginitudes to maggy\n",
    "1. cmodelmag - extinxtion_correction\n",
    "2. SDSS to AB\n",
    "3. asinh mag to flux\n",
    "   f = sinh([m / (-2.5/ln(10)) - ln(b)]) * (2b) * f0"
   ]
  },
  {
   "cell_type": "markdown",
   "metadata": {},
   "source": [
    "## maggy_ivar\n",
    "Note that the conversion to the inverse variances from the maggies and the magnitude errors is (0.4 ln(10) × maggies × magerr)-2\n",
    "\n",
    "what are the magerr? Can be downloaded from SDSS skyserver"
   ]
  },
  {
   "cell_type": "code",
   "execution_count": 2,
   "metadata": {
    "collapsed": true
   },
   "outputs": [],
   "source": [
    "import kcorrect as kc\n",
    "import numpy as np\n",
    "import os\n",
    "import pandas as pd"
   ]
  },
  {
   "cell_type": "code",
   "execution_count": 42,
   "metadata": {},
   "outputs": [],
   "source": [
    "# load the unLRG sample list\n",
    "listpath = \"./BH_SDSS_cross_checked.xlsx\"\n",
    "data = pd.read_excel(listpath, \"Sheet2\")"
   ]
  },
  {
   "cell_type": "code",
   "execution_count": 97,
   "metadata": {
    "collapsed": true
   },
   "outputs": [],
   "source": [
    "def calc_maggies(mag, ext, band_id):\n",
    "    \"\"\"Calc flux from magnitude\"\"\"\n",
    "    # extinction correction\n",
    "    mag = mag - ext\n",
    "    # AB calibration\n",
    "    ab_coeff = [-0.04, 0, 0, 0, 0.02]\n",
    "    mag = mag + mag * ab_coeff[band_id]\n",
    "    # mag to maggie\n",
    "    f0 = 3631 #[Jy]\n",
    "    b_coeff = [1.4e-10, 0.9e-10, 1.2e-10, 1.8e-10, 7.4e-10]\n",
    "    b = b_coeff[band_id]\n",
    "    # maggie = math.sinh((mag / (-2.5/math.log(10)) - math.log(b))) * (2*b) * f0\n",
    "    maggie = 10 ** (mag / -2.5)\n",
    "    \n",
    "    return maggie"
   ]
  },
  {
   "cell_type": "code",
   "execution_count": 24,
   "metadata": {},
   "outputs": [],
   "source": [
    "# TODO\n",
    "def calc_maggies_ivar(maggie, magerr):\n",
    "    \"Calc maggie inverse variance\"\n",
    "    maggie_ivar = (0.4 * math.log(10) * maggie * magerr)**(-2)\n",
    "    return maggie_ivar"
   ]
  },
  {
   "cell_type": "code",
   "execution_count": 53,
   "metadata": {
    "collapsed": true
   },
   "outputs": [],
   "source": [
    "def get_sample_params(mags,exts,magerrs,z):\n",
    "    \"\"\"Generate the parameters for kcorrection estimation\"\"\"\n",
    "    param = np.zeros((11,))\n",
    "    param[0] = z\n",
    "    # calc maggies\n",
    "    for i, mag in enumerate(mags):\n",
    "        param[i+1] = calc_maggies(mag=mag, ext=exts[i], band_id=i)\n",
    "    # calc maggie_ivar\n",
    "    for i, magerr in enumerate(magerrs):\n",
    "        param[i+6] = calc_maggies_ivar(maggie=param[i+1], magerr=magerr)\n",
    "    \n",
    "    return param"
   ]
  },
  {
   "cell_type": "code",
   "execution_count": 26,
   "metadata": {
    "collapsed": true
   },
   "outputs": [],
   "source": [
    "# calc reconstructed_mag\n",
    "def calc_reconmag(sample_params):\n",
    "    kc.load_templates() # load the default template\n",
    "    kc.load_filters() # load the SDSS filters\n",
    "    # get the coeffs\n",
    "    coeff = kc.fit_coeffs(sample_params)\n",
    "    reconmag = kc.reconstruct_maggies(coeff)\n",
    "    return reconmag"
   ]
  },
  {
   "cell_type": "code",
   "execution_count": 74,
   "metadata": {
    "collapsed": true
   },
   "outputs": [],
   "source": [
    "# calc the absolute magnitude from magnitude_r and k_correction\n",
    "from astropy.cosmology import FlatLambdaCDM\n",
    "import astropy.units as au\n",
    "def calc_luminosity_distance(redshift):\n",
    "    \"\"\"Calculate the rate, kpc/px.\"\"\"\n",
    "    # Init\n",
    "    # Hubble constant at z = 0\n",
    "    H0 = 71.0\n",
    "    # Omega0, total matter density\n",
    "    Om0 = 0.27\n",
    "    # Cosmo\n",
    "    cosmo = FlatLambdaCDM(H0=H0, Om0=Om0)\n",
    "    # Angular diameter distance, [Mpc]\n",
    "    dL = cosmo.luminosity_distance(redshift)\n",
    "\n",
    "    return dL.to(au.pc)\n",
    "\n",
    "def calc_absmag(mag_r,dl,kcrt):\n",
    "    mag_abs = mag_r - 5*(math.log10(dl) - 1) - kcrt\n",
    "    return mag_abs"
   ]
  },
  {
   "cell_type": "markdown",
   "metadata": {},
   "source": [
    "## Single test"
   ]
  },
  {
   "cell_type": "code",
   "execution_count": 43,
   "metadata": {},
   "outputs": [
    {
     "data": {
      "text/plain": [
       "Index(['Name-J2000', 'RA', 'Dec', 'z', 'raj2000', 'dej2000', 'S_nvss',\n",
       "       'cmodelmag_g', 'cmodelmag_i', 'cmodelmag_r', 'cmodelmag_u',\n",
       "       'cmodelmag_z', 'extinction_g', 'extinction_i', 'extinction_r',\n",
       "       'extinction_u', 'extinction_z', 'cmodelmagerr_g', 'cmodelmagerr_i',\n",
       "       'cmodelmagerr_r', 'cmodelmagerr_u', 'cmodelmagerr_z', 'Type'],\n",
       "      dtype='object')"
      ]
     },
     "execution_count": 43,
     "metadata": {},
     "output_type": "execute_result"
    }
   ],
   "source": [
    "data.keys()"
   ]
  },
  {
   "cell_type": "code",
   "execution_count": 44,
   "metadata": {},
   "outputs": [],
   "source": [
    "# a single test\n",
    "extinction_u = data[\"extinction_u\"]\n",
    "extinction_g = data[\"extinction_g\"]\n",
    "extinction_r = data[\"extinction_r\"]\n",
    "extinction_i = data[\"extinction_i\"]\n",
    "extinction_z = data[\"extinction_z\"]\n",
    "\n",
    "cmodelmag_u = np.nan_to_num(data[\"cmodelmag_u\"])\n",
    "cmodelmag_g = np.nan_to_num(data[\"cmodelmag_g\"])\n",
    "cmodelmag_r = np.nan_to_num(data[\"cmodelmag_r\"])\n",
    "cmodelmag_i = np.nan_to_num(data[\"cmodelmag_i\"])\n",
    "cmodelmag_z = np.nan_to_num(data[\"cmodelmag_z\"])\n",
    "\n",
    "cmodelmagerr_u = np.nan_to_num(data[\"cmodelmagerr_u\"])\n",
    "cmodelmagerr_g = np.nan_to_num(data[\"cmodelmagerr_g\"])\n",
    "cmodelmagerr_r = np.nan_to_num(data[\"cmodelmagerr_r\"])\n",
    "cmodelmagerr_i = np.nan_to_num(data[\"cmodelmagerr_i\"])\n",
    "cmodelmagerr_z = np.nan_to_num(data[\"cmodelmagerr_z\"])"
   ]
  },
  {
   "cell_type": "code",
   "execution_count": 31,
   "metadata": {
    "collapsed": true
   },
   "outputs": [],
   "source": [
    "idx_u1 = np.where(cmodelmag_u != -9999)[0]\n",
    "idx_u2 = np.where(cmodelmag_u != 0.0)[0]\n",
    "idx_u3 = np.where(cmodelmag_u != 10000)[0]\n",
    "idx = np.intersect1d(idx_u1,idx_u2)\n",
    "idx = np.intersect1d(idx, idx_u3)"
   ]
  },
  {
   "cell_type": "code",
   "execution_count": 37,
   "metadata": {},
   "outputs": [],
   "source": [
    "redshift = data[\"z\"]"
   ]
  },
  {
   "cell_type": "code",
   "execution_count": 110,
   "metadata": {},
   "outputs": [],
   "source": [
    "i = 1109\n",
    "z = redshift[i]\n",
    "mags = [cmodelmag_u[i],cmodelmag_g[i],cmodelmag_r[i],cmodelmag_r[i],cmodelmag_z[i]]\n",
    "exts = [extinction_u[i],extinction_g[i],extinction_r[i],extinction_r[i],extinction_z[i]]\n",
    "magerrs = [cmodelmagerr_u[i],cmodelmagerr_g[i],cmodelmagerr_g[i],cmodelmagerr_i[i],cmodelmagerr_z[i]]\n",
    "params = get_sample_params(mags,exts,magerrs,z)"
   ]
  },
  {
   "cell_type": "code",
   "execution_count": 111,
   "metadata": {},
   "outputs": [
    {
     "data": {
      "text/plain": [
       "array([  2.84619987e-01,   3.30770987e-08,   7.98178393e-08,\n",
       "         2.01748669e-07,   2.01748669e-07,   3.03189810e-07,\n",
       "         2.15039387e+17,   3.09703568e+18,   4.84757777e+17,\n",
       "         1.14866669e+18,   1.12387971e+17])"
      ]
     },
     "execution_count": 111,
     "metadata": {},
     "output_type": "execute_result"
    }
   ],
   "source": [
    "params"
   ]
  },
  {
   "cell_type": "code",
   "execution_count": 112,
   "metadata": {
    "collapsed": true
   },
   "outputs": [],
   "source": [
    "reconmag = calc_reconmag(params)"
   ]
  },
  {
   "cell_type": "code",
   "execution_count": 113,
   "metadata": {},
   "outputs": [
    {
     "data": {
      "text/plain": [
       "array([  2.84619987e-01,   2.81977819e-08,   8.14878121e-08,\n",
       "         1.83831446e-07,   2.10137159e-07,   2.76834669e-07], dtype=float32)"
      ]
     },
     "execution_count": 113,
     "metadata": {},
     "output_type": "execute_result"
    }
   ],
   "source": [
    "reconmag"
   ]
  },
  {
   "cell_type": "code",
   "execution_count": 114,
   "metadata": {},
   "outputs": [],
   "source": [
    "dl = calc_luminosity_distance(z)\n",
    "# mag_abs = calc_abmag(mags[2],dl,reconmag[3])"
   ]
  },
  {
   "cell_type": "code",
   "execution_count": 117,
   "metadata": {},
   "outputs": [
    {
     "data": {
      "text/latex": [
       "$1.4499049 \\times 10^{9} \\; \\mathrm{pc}$"
      ],
      "text/plain": [
       "<Quantity 1449904937.1746511 pc>"
      ]
     },
     "execution_count": 117,
     "metadata": {},
     "output_type": "execute_result"
    }
   ],
   "source": [
    "dl"
   ]
  },
  {
   "cell_type": "code",
   "execution_count": 118,
   "metadata": {},
   "outputs": [
    {
     "data": {
      "text/plain": [
       "40.80669764354079"
      ]
     },
     "execution_count": 118,
     "metadata": {},
     "output_type": "execute_result"
    }
   ],
   "source": [
    "5*(math.log10(dl.value) - 1)"
   ]
  },
  {
   "cell_type": "code",
   "execution_count": 119,
   "metadata": {},
   "outputs": [
    {
     "data": {
      "text/plain": [
       "16.898117065429702"
      ]
     },
     "execution_count": 119,
     "metadata": {},
     "output_type": "execute_result"
    }
   ],
   "source": [
    "mags[2]"
   ]
  },
  {
   "cell_type": "code",
   "execution_count": 120,
   "metadata": {},
   "outputs": [
    {
     "data": {
      "text/plain": [
       "1.8383145e-07"
      ]
     },
     "execution_count": 120,
     "metadata": {},
     "output_type": "execute_result"
    }
   ],
   "source": [
    "reconmag[3]"
   ]
  },
  {
   "cell_type": "code",
   "execution_count": 121,
   "metadata": {},
   "outputs": [
    {
     "data": {
      "text/plain": [
       "-23.901883118401742"
      ]
     },
     "execution_count": 121,
     "metadata": {},
     "output_type": "execute_result"
    }
   ],
   "source": [
    "mags[2] - 40.8 - reconmag[3]"
   ]
  },
  {
   "cell_type": "code",
   "execution_count": 122,
   "metadata": {},
   "outputs": [],
   "source": [
    "mag_abs = calc_absmag(mags[2],dl.value,reconmag[3])"
   ]
  },
  {
   "cell_type": "code",
   "execution_count": 123,
   "metadata": {},
   "outputs": [
    {
     "data": {
      "text/plain": [
       "-23.908580761942531"
      ]
     },
     "execution_count": 123,
     "metadata": {},
     "output_type": "execute_result"
    }
   ],
   "source": [
    "mag_abs"
   ]
  },
  {
   "cell_type": "code",
   "execution_count": 106,
   "metadata": {
    "collapsed": true
   },
   "outputs": [],
   "source": [
    "f = 10 ** (mag_abs/(-2.5))"
   ]
  },
  {
   "cell_type": "code",
   "execution_count": 107,
   "metadata": {},
   "outputs": [
    {
     "data": {
      "text/plain": [
       "976.91973992496946"
      ]
     },
     "execution_count": 107,
     "metadata": {},
     "output_type": "execute_result"
    }
   ],
   "source": [
    "f"
   ]
  },
  {
   "cell_type": "code",
   "execution_count": null,
   "metadata": {
    "collapsed": true
   },
   "outputs": [],
   "source": []
  }
 ],
 "metadata": {
  "kernelspec": {
   "display_name": "Python 3",
   "language": "python",
   "name": "python3"
  },
  "language_info": {
   "codemirror_mode": {
    "name": "ipython",
    "version": 3
   },
   "file_extension": ".py",
   "mimetype": "text/x-python",
   "name": "python",
   "nbconvert_exporter": "python",
   "pygments_lexer": "ipython3",
   "version": "3.5.2+"
  }
 },
 "nbformat": 4,
 "nbformat_minor": 2
}
