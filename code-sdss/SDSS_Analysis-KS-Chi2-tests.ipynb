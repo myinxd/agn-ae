{
 "cells": [
  {
   "cell_type": "code",
   "execution_count": null,
   "metadata": {
    "collapsed": true
   },
   "outputs": [],
   "source": [
    "import os\n",
    "import numpy as np\n",
    "import pandas as pd\n",
    "import utils_sdss as utils"
   ]
  },
  {
   "cell_type": "code",
   "execution_count": null,
   "metadata": {
    "collapsed": true
   },
   "outputs": [],
   "source": [
    "import matplotlib\n",
    "matplotlib.use('Agg')\n",
    "import matplotlib.pyplot as plt\n",
    "# plt.style.use(\"ggplot\")\n",
    "%matplotlib inline"
   ]
  },
  {
   "cell_type": "code",
   "execution_count": null,
   "metadata": {
    "collapsed": true
   },
   "outputs": [],
   "source": [
    "# load data\n",
    "# load the unLRG sample list\n",
    "listpath = \"./BH_SDSS_cross_checked.xlsx\"\n",
    "data = pd.read_excel(listpath, \"Sheet2\")"
   ]
  },
  {
   "cell_type": "code",
   "execution_count": null,
   "metadata": {
    "collapsed": true
   },
   "outputs": [],
   "source": [
    "extinction_u = data[\"extinction_u\"]\n",
    "extinction_g = data[\"extinction_g\"]\n",
    "extinction_r = data[\"extinction_r\"]\n",
    "extinction_i = data[\"extinction_i\"]\n",
    "extinction_z = data[\"extinction_z\"]\n",
    "\n",
    "cmodelmag_u = np.nan_to_num(data[\"cmodelmag_u\"])\n",
    "cmodelmag_g = np.nan_to_num(data[\"cmodelmag_g\"])\n",
    "cmodelmag_r = np.nan_to_num(data[\"cmodelmag_r\"])\n",
    "cmodelmag_i = np.nan_to_num(data[\"cmodelmag_i\"])\n",
    "cmodelmag_z = np.nan_to_num(data[\"cmodelmag_z\"])\n",
    "\n",
    "cmodelmagerr_u = np.nan_to_num(data[\"cmodelmagerr_u\"])\n",
    "cmodelmagerr_g = np.nan_to_num(data[\"cmodelmagerr_g\"])\n",
    "cmodelmagerr_r = np.nan_to_num(data[\"cmodelmagerr_r\"])\n",
    "cmodelmagerr_i = np.nan_to_num(data[\"cmodelmagerr_i\"])\n",
    "cmodelmagerr_z = np.nan_to_num(data[\"cmodelmagerr_z\"])"
   ]
  },
  {
   "cell_type": "code",
   "execution_count": null,
   "metadata": {
    "collapsed": true
   },
   "outputs": [],
   "source": [
    "# exclude bad sample\n",
    "idx_u1 = np.where(cmodelmag_u != -9999)[0]\n",
    "idx_u2 = np.where(cmodelmag_u != 0.0)[0]\n",
    "idx_u3 = np.where(cmodelmag_u != 10000)[0]\n",
    "idx = np.intersect1d(idx_u1,idx_u2)\n",
    "idx = np.intersect1d(idx, idx_u3)"
   ]
  },
  {
   "cell_type": "code",
   "execution_count": null,
   "metadata": {
    "collapsed": true
   },
   "outputs": [],
   "source": [
    "# load reconstruct k_correction\n",
    "with open(\"../../result-171102/sdss/reconf_unLRG.dat\", 'r') as fp:\n",
    "    reconmags = fp.readlines()"
   ]
  },
  {
   "cell_type": "code",
   "execution_count": null,
   "metadata": {
    "collapsed": true
   },
   "outputs": [],
   "source": [
    "# calc absolute magnitudes and save into excels\n",
    "redshift = data[\"z\"]\n",
    "mag_abs = np.ones((len(redshift),))*10000\n",
    "for j,i in enumerate(idx):\n",
    "    z = redshift[i]\n",
    "    dl = utils.calc_luminosity_distance(z) # luminosity distance [Mpc]\n",
    "    mags = [cmodelmag_u[i],cmodelmag_g[i],cmodelmag_r[i],cmodelmag_r[i],cmodelmag_z[i]]\n",
    "    exts = [extinction_u[i],extinction_g[i],extinction_r[i],extinction_r[i],extinction_z[i]]\n",
    "    reconmag = reconmags[j].split(\" \")\n",
    "    mag_abs[i] = utils.calc_absmag(mags[2]-exts[2],dl.value,float(reconmag[3]))"
   ]
  },
  {
   "cell_type": "code",
   "execution_count": null,
   "metadata": {
    "collapsed": true
   },
   "outputs": [],
   "source": [
    "mode = data[\"Type\"]\n",
    "idx1 = np.where(mode == 1)[0]\n",
    "idx2 = np.where(mode == 2)[0]\n",
    "idx3 = np.where(mode == 3)[0]\n",
    "idx4 = np.where(mode == 4)[0]\n",
    "idx5 = np.where(mode == 5)[0]\n",
    "idx6 = np.where(mode == 6)[0]\n",
    "idx2_same = np.intersect1d(idx,idx2)\n",
    "idx3_same = np.intersect1d(idx,idx3)"
   ]
  },
  {
   "cell_type": "code",
   "execution_count": null,
   "metadata": {
    "collapsed": true
   },
   "outputs": [],
   "source": [
    "BT = data[\"BT\"]\n",
    "idx_fr1 = np.where(BT == 1)[0]\n",
    "idx_fr2 = np.where(BT == 2)[0]\n",
    "idx_fr1 = np.intersect1d(idx, idx_fr1)\n",
    "idx_fr2 = np.intersect1d(idx, idx_fr2)"
   ]
  },
  {
   "cell_type": "code",
   "execution_count": null,
   "metadata": {
    "collapsed": true
   },
   "outputs": [],
   "source": [
    "flux = data[\"S_nvss\"]\n",
    "lumo = utils.flux_to_luminosity(redshift = redshift, flux = flux)"
   ]
  },
  {
   "cell_type": "markdown",
   "metadata": {},
   "source": [
    "### Data"
   ]
  },
  {
   "cell_type": "code",
   "execution_count": null,
   "metadata": {
    "collapsed": true
   },
   "outputs": [],
   "source": [
    "lumo_fr1_typical = lumo[idx2_same] * 10**-22\n",
    "lumo_fr2_typical = lumo[idx3_same] * 10**-22\n",
    "\n",
    "mag_fr1_typical = mag_abs[idx2_same]\n",
    "mag_fr2_typical = mag_abs[idx3_same]"
   ]
  },
  {
   "cell_type": "code",
   "execution_count": null,
   "metadata": {
    "collapsed": true
   },
   "outputs": [],
   "source": [
    "lumo_fr1_like = lumo[idx_fr1] * 10**-22\n",
    "lumo_fr2_like = lumo[idx_fr2] * 10**-22\n",
    "\n",
    "mag_fr1_like = mag_abs[idx_fr1]\n",
    "mag_fr2_like = mag_abs[idx_fr2]"
   ]
  },
  {
   "cell_type": "code",
   "execution_count": null,
   "metadata": {
    "collapsed": true
   },
   "outputs": [],
   "source": [
    "mag_fr1 = np.hstack([mag_abs[idx_fr1], mag_abs[idx2_same]])\n",
    "mag_fr2 = np.hstack([mag_abs[idx_fr2], mag_abs[idx3_same]])\n",
    "lumo_fr1 = np.hstack([lumo[idx_fr1], lumo[idx2_same]]) * 10 ** -22\n",
    "lumo_fr2 = np.hstack([lumo[idx_fr2], lumo[idx3_same]]) * 10 ** -22"
   ]
  },
  {
   "cell_type": "markdown",
   "metadata": {},
   "source": [
    "# Correlation analysis\n",
    "- Pearson: http://blog.csdn.net/hjh00/article/details/48230399\n",
    "- p-value: https://stackoverflow.com/questions/22306341/python-sklearn-how-to-calculate-p-values\n",
    "- Kolmogorov-Smirnov test: https://stackoverflow.com/questions/10884668/two-sample-kolmogorov-smirnov-test-in-python-scipy\n",
    "- Scipy.stats.kstest: https://docs.scipy.org/doc/scipy-0.7.x/reference/generated/scipy.stats.kstest.html"
   ]
  },
  {
   "cell_type": "code",
   "execution_count": null,
   "metadata": {
    "collapsed": true
   },
   "outputs": [],
   "source": [
    "import scipy.stats.stats as stats \n",
    "from sklearn.feature_selection import chi2"
   ]
  },
  {
   "cell_type": "code",
   "execution_count": null,
   "metadata": {},
   "outputs": [],
   "source": [
    "# ks test\n",
    "# https://docs.scipy.org/doc/scipy-0.7.x/reference/generated/scipy.stats.ks_2samp.html#scipy.stats.ks_2sam\n",
    "lumo_ks_D_t,lumo_ks_p_t = stats.ks_2samp(lumo_fr1_typical,lumo_fr2_typical)\n",
    "print(\"KS statistic of lumo: typical %.5f\" % lumo_ks_D_t)\n",
    "print(\"P-value of lumo: typical %.5e\" % lumo_ks_p_t)"
   ]
  },
  {
   "cell_type": "code",
   "execution_count": null,
   "metadata": {},
   "outputs": [],
   "source": [
    "mag_ks_D_t,mag_ks_p_t = stats.ks_2samp(mag_fr1_typical,mag_fr2_typical)\n",
    "print(\"KS statistic of Mr: typical %.5f\" % mag_ks_D_t)\n",
    "print(\"P-value of Mr: typical %.5e\" % mag_ks_p_t)"
   ]
  },
  {
   "cell_type": "code",
   "execution_count": null,
   "metadata": {},
   "outputs": [],
   "source": [
    "# FR like\n",
    "lumo_ks_D_l,lumo_ks_p_l = stats.ks_2samp(lumo_fr1_like,lumo_fr2_like)\n",
    "print(\"KS statistic of lumo: like %.5f\" % lumo_ks_D_l)\n",
    "print(\"P-value of lumo: like %.5e\" % lumo_ks_p_l)\n",
    "\n",
    "mag_ks_D_l,mag_ks_p_l = stats.ks_2samp(mag_fr1_like,mag_fr2_like)\n",
    "print(\"KS statistic of Mr: like %.5f\" % mag_ks_D_l)\n",
    "print(\"P-value of Mr: like %.5e\" % mag_ks_p_l)"
   ]
  },
  {
   "cell_type": "code",
   "execution_count": null,
   "metadata": {},
   "outputs": [],
   "source": [
    "# FR\n",
    "lumo_ks_D,lumo_ks_p = stats.ks_2samp(lumo_fr1,lumo_fr2)\n",
    "print(\"KS statistic of lumo: %.5f\" % lumo_ks_D)\n",
    "print(\"P-value of lumo: %.5e\" % lumo_ks_p)\n",
    "\n",
    "mag_ks_D,mag_ks_p = stats.ks_2samp(mag_fr1,mag_fr2)\n",
    "print(\"KS statistic of Mr: %.5f\" % mag_ks_D)\n",
    "print(\"P-value of Mr: %.5e\" % mag_ks_p)"
   ]
  },
  {
   "cell_type": "markdown",
   "metadata": {},
   "source": [
    "**P-value非常小，而ks statistic数值较大，认为FRI/FRII有一定的可分性。即原假设FRI/FRII的射电光学和光度服从统一分布是错误的。**\n",
    "但是，mag的D值，相对来说较小，说明光学数据上可分性没有luminosity高"
   ]
  },
  {
   "cell_type": "markdown",
   "metadata": {
    "collapsed": true
   },
   "source": [
    "## Chi"
   ]
  },
  {
   "cell_type": "code",
   "execution_count": null,
   "metadata": {},
   "outputs": [],
   "source": [
    "x_lumo = np.hstack((lumo_fr1,lumo_fr2))\n",
    "x_lumo.shape"
   ]
  },
  {
   "cell_type": "code",
   "execution_count": null,
   "metadata": {},
   "outputs": [],
   "source": [
    "x_lumo = np.log10(np.hstack((lumo_fr1,lumo_fr2)))\n",
    "x_mag = np.hstack((mag_fr1,mag_fr2))\n",
    "x_lumo_norm = (x_lumo - x_lumo.min()) / (x_lumo.max() - x_lumo.min())\n",
    "x_mag_norm = (x_mag - x_mag.min()) / (x_mag.max() - x_mag.min())\n",
    "\n",
    "x = np.vstack([x_lumo_norm,x_mag_norm])\n",
    "x = x.transpose()\n",
    "y = np.zeros(len(mag_abs))\n",
    "y[idx2_same] = 1\n",
    "y[idx_fr1] = 1\n",
    "y[idx3_same] = 2\n",
    "y[idx_fr2] = 2\n",
    "y = y[np.where(y > 0)]\n",
    "\n",
    "scores, pvalues = chi2(x, y)"
   ]
  },
  {
   "cell_type": "code",
   "execution_count": null,
   "metadata": {
    "collapsed": true
   },
   "outputs": [],
   "source": [
    "pvalues"
   ]
  },
  {
   "cell_type": "code",
   "execution_count": null,
   "metadata": {
    "collapsed": true
   },
   "outputs": [],
   "source": [
    "from scipy.stats import chisquare"
   ]
  },
  {
   "cell_type": "code",
   "execution_count": null,
   "metadata": {
    "collapsed": true
   },
   "outputs": [],
   "source": [
    "chisquare(x_lumo_norm, y)"
   ]
  },
  {
   "cell_type": "code",
   "execution_count": null,
   "metadata": {
    "collapsed": true
   },
   "outputs": [],
   "source": [
    "np.random.seed(12222222)\n",
    "x = np.random.normal(0,1,size=(20000,))\n",
    "y = np.random.normal(0,1,size=(20000,))\n",
    "stats.ks_2samp(x,y)"
   ]
  },
  {
   "cell_type": "code",
   "execution_count": null,
   "metadata": {
    "collapsed": true
   },
   "outputs": [],
   "source": []
  }
 ],
 "metadata": {
  "kernelspec": {
   "display_name": "Python 3",
   "language": "python",
   "name": "python3"
  },
  "language_info": {
   "codemirror_mode": {
    "name": "ipython",
    "version": 3
   },
   "file_extension": ".py",
   "mimetype": "text/x-python",
   "name": "python",
   "nbconvert_exporter": "python",
   "pygments_lexer": "ipython3",
   "version": "3.5.2+"
  }
 },
 "nbformat": 4,
 "nbformat_minor": 2
}
