{
 "cells": [
  {
   "cell_type": "code",
   "execution_count": null,
   "metadata": {
    "collapsed": true
   },
   "outputs": [],
   "source": [
    "# Batchly calculate absolute magnitudes of the unLRG samples"
   ]
  },
  {
   "cell_type": "code",
   "execution_count": null,
   "metadata": {
    "collapsed": true
   },
   "outputs": [],
   "source": [
    "import os\n",
    "import numpy as np\n",
    "import pandas as pd\n",
    "import utils_sdss as utils"
   ]
  },
  {
   "cell_type": "code",
   "execution_count": null,
   "metadata": {
    "collapsed": true
   },
   "outputs": [],
   "source": [
    "# load data\n",
    "# load the unLRG sample list\n",
    "listpath = \"./BH_SDSS_cross_checked.xlsx\"\n",
    "data = pd.read_excel(listpath, \"Sheet2\")"
   ]
  },
  {
   "cell_type": "code",
   "execution_count": null,
   "metadata": {
    "collapsed": true
   },
   "outputs": [],
   "source": [
    "extinction_u = data[\"extinction_u\"]\n",
    "extinction_g = data[\"extinction_g\"]\n",
    "extinction_r = data[\"extinction_r\"]\n",
    "extinction_i = data[\"extinction_i\"]\n",
    "extinction_z = data[\"extinction_z\"]\n",
    "\n",
    "cmodelmag_u = np.nan_to_num(data[\"cmodelmag_u\"])\n",
    "cmodelmag_g = np.nan_to_num(data[\"cmodelmag_g\"])\n",
    "cmodelmag_r = np.nan_to_num(data[\"cmodelmag_r\"])\n",
    "cmodelmag_i = np.nan_to_num(data[\"cmodelmag_i\"])\n",
    "cmodelmag_z = np.nan_to_num(data[\"cmodelmag_z\"])\n",
    "\n",
    "cmodelmagerr_u = np.nan_to_num(data[\"cmodelmagerr_u\"])\n",
    "cmodelmagerr_g = np.nan_to_num(data[\"cmodelmagerr_g\"])\n",
    "cmodelmagerr_r = np.nan_to_num(data[\"cmodelmagerr_r\"])\n",
    "cmodelmagerr_i = np.nan_to_num(data[\"cmodelmagerr_i\"])\n",
    "cmodelmagerr_z = np.nan_to_num(data[\"cmodelmagerr_z\"])"
   ]
  },
  {
   "cell_type": "code",
   "execution_count": null,
   "metadata": {
    "collapsed": true
   },
   "outputs": [],
   "source": [
    "# exclude bad sample\n",
    "idx_u1 = np.where(cmodelmag_u != -9999)[0]\n",
    "idx_u2 = np.where(cmodelmag_u != 0.0)[0]\n",
    "idx_u3 = np.where(cmodelmag_u != 10000)[0]\n",
    "idx = np.intersect1d(idx_u1,idx_u2)\n",
    "idx = np.intersect1d(idx, idx_u3)"
   ]
  },
  {
   "cell_type": "code",
   "execution_count": null,
   "metadata": {
    "collapsed": true
   },
   "outputs": [],
   "source": [
    "# Calc parameters and save\n",
    "redshift = data[\"z\"]\n",
    "params = np.zeros((len(redshift),11))\n",
    "fp = open(\"params_unLRG.dat\",\"w\")\n",
    "for i in idx:\n",
    "    z = redshift[i]\n",
    "    mags = [cmodelmag_u[i],cmodelmag_g[i],cmodelmag_r[i],cmodelmag_r[i],cmodelmag_z[i]]\n",
    "    exts = [extinction_u[i],extinction_g[i],extinction_r[i],extinction_r[i],extinction_z[i]]\n",
    "    magerrs = [cmodelmagerr_u[i],cmodelmagerr_g[i],cmodelmagerr_g[i],cmodelmagerr_i[i],cmodelmagerr_z[i]]\n",
    "    params[i,:] = utils.get_sample_params(mags,exts,magerrs,z)\n",
    "    for param in params[i,:]:\n",
    "        fp.write(str(param))\n",
    "        fp.write(\" \")\n",
    "    fp.write(\"\\n\")\n",
    "fp.close()"
   ]
  },
  {
   "cell_type": "code",
   "execution_count": null,
   "metadata": {
    "collapsed": true
   },
   "outputs": [],
   "source": [
    "# Get coeffs and kcorrection\n",
    "parampath = \"params_unLRG.dat\"\n",
    "coeffpath = \"coeff_unLRG.dat\"\n",
    "reconpath = \"reconf_unLRG.dat\"\n",
    "utils.calc_reconmag_batch(parampath, coeffpath, reconpath)"
   ]
  },
  {
   "cell_type": "code",
   "execution_count": null,
   "metadata": {
    "collapsed": true
   },
   "outputs": [],
   "source": [
    "# load reconstruct k_correction\n",
    "with open(\"./reconf_unLRG.dat\", 'r') as fp:\n",
    "    reconmags = fp.readlines()"
   ]
  },
  {
   "cell_type": "code",
   "execution_count": null,
   "metadata": {
    "collapsed": true
   },
   "outputs": [],
   "source": [
    "# calc absolute magnitudes and save into excels\n",
    "mag_abs = np.ones((len(redshift),))*10000\n",
    "for j,i in enumerate(idx):\n",
    "    z = redshift[i]\n",
    "    dl = utils.calc_luminosity_distance(z) # luminosity distance [Mpc]\n",
    "    mags = [cmodelmag_u[i],cmodelmag_g[i],cmodelmag_r[i],cmodelmag_r[i],cmodelmag_z[i]]\n",
    "    exts = [extinction_u[i],extinction_g[i],extinction_r[i],extinction_r[i],extinction_z[i]]\n",
    "    reconmag = reconmags[j].split(\" \")\n",
    "    mag_abs[i] = utils.calc_absmag(mags[2]-exts[2],dl.value,float(reconmag[3]))"
   ]
  },
  {
   "cell_type": "markdown",
   "metadata": {},
   "source": [
    "## Plot the 2D maps"
   ]
  },
  {
   "cell_type": "code",
   "execution_count": null,
   "metadata": {
    "collapsed": true
   },
   "outputs": [],
   "source": [
    "import matplotlib\n",
    "matplotlib.use('Agg')\n",
    "import matplotlib.pyplot as plt\n",
    "# plt.style.use(\"ggplot\")\n",
    "%matplotlib inline"
   ]
  },
  {
   "cell_type": "code",
   "execution_count": null,
   "metadata": {
    "collapsed": true
   },
   "outputs": [],
   "source": [
    "mode = data[\"Type\"]\n",
    "idx1 = np.where(mode == 1)[0]\n",
    "idx2 = np.where(mode == 2)[0]\n",
    "idx3 = np.where(mode == 3)[0]\n",
    "idx4 = np.where(mode == 4)[0]\n",
    "idx5 = np.where(mode == 5)[0]\n",
    "idx6 = np.where(mode == 6)[0]"
   ]
  },
  {
   "cell_type": "code",
   "execution_count": null,
   "metadata": {
    "collapsed": true
   },
   "outputs": [],
   "source": [
    "idx2_same = np.intersect1d(idx,idx2)\n",
    "idx3_same = np.intersect1d(idx,idx3)"
   ]
  },
  {
   "cell_type": "code",
   "execution_count": null,
   "metadata": {
    "collapsed": true
   },
   "outputs": [],
   "source": [
    "flux = data[\"S_nvss\"]\n",
    "lumo = utils.flux_to_luminosity(redshift = redshift, flux = flux)"
   ]
  },
  {
   "cell_type": "code",
   "execution_count": null,
   "metadata": {
    "collapsed": true
   },
   "outputs": [],
   "source": [
    "from scipy.optimize import curve_fit\n",
    "def gauss(x, a, c, mu, sigma):\n",
    "    return a*np.exp(-(x-mu)**2/sigma**2)+c"
   ]
  },
  {
   "cell_type": "markdown",
   "metadata": {},
   "source": [
    "## Typical FR"
   ]
  },
  {
   "cell_type": "code",
   "execution_count": null,
   "metadata": {
    "collapsed": true
   },
   "outputs": [],
   "source": [
    "lumo_fr1_typical = lumo[idx2_same] * 10**-22\n",
    "[num_fr1_typical,edge_fr1_typical] = np.histogram(np.log10(lumo_fr1_typical), bins=np.arange(1,6,0.2))"
   ]
  },
  {
   "cell_type": "code",
   "execution_count": null,
   "metadata": {
    "collapsed": true
   },
   "outputs": [],
   "source": [
    "lumo_fr2_typical = lumo[idx3_same] * 10**-22\n",
    "[num_fr2_typical,edge_fr2_typical] = np.histogram(np.log10(lumo_fr2_typical), bins=np.arange(1,6,0.2))"
   ]
  },
  {
   "cell_type": "code",
   "execution_count": null,
   "metadata": {
    "collapsed": true
   },
   "outputs": [],
   "source": [
    "mag_fr1_typical = mag_abs[idx2_same]\n",
    "mag_fr2_typical = mag_abs[idx3_same]"
   ]
  },
  {
   "cell_type": "markdown",
   "metadata": {
    "collapsed": true
   },
   "source": [
    "## BT"
   ]
  },
  {
   "cell_type": "code",
   "execution_count": null,
   "metadata": {
    "collapsed": true
   },
   "outputs": [],
   "source": [
    "BT = data[\"BT\"]\n",
    "idx_fr1 = np.where(BT == 1)[0]\n",
    "idx_fr2 = np.where(BT == 2)[0]\n",
    "idx_fr1 = np.intersect1d(idx, idx_fr1)\n",
    "idx_fr2 = np.intersect1d(idx, idx_fr2)"
   ]
  },
  {
   "cell_type": "code",
   "execution_count": null,
   "metadata": {
    "collapsed": true
   },
   "outputs": [],
   "source": [
    "lumo_fr1_like = lumo[idx_fr1] * 10**-22\n",
    "[num_fr1_like,edge_fr1_like] = np.histogram(np.log10(lumo_fr1_like), bins=np.arange(1,6,0.2))"
   ]
  },
  {
   "cell_type": "code",
   "execution_count": null,
   "metadata": {
    "collapsed": true
   },
   "outputs": [],
   "source": [
    "lumo_fr2_like = lumo[idx_fr2] * 10**-22\n",
    "[num_fr2_like,edge_fr2_like] = np.histogram(np.log10(lumo_fr2_like), bins=np.arange(1,6,0.2))"
   ]
  },
  {
   "cell_type": "code",
   "execution_count": null,
   "metadata": {
    "collapsed": true
   },
   "outputs": [],
   "source": [
    "mag_fr1_like = mag_abs[idx_fr1]\n",
    "mag_fr2_like = mag_abs[idx_fr2]"
   ]
  },
  {
   "cell_type": "markdown",
   "metadata": {},
   "source": [
    "## typical FR + BT"
   ]
  },
  {
   "cell_type": "code",
   "execution_count": null,
   "metadata": {
    "collapsed": true
   },
   "outputs": [],
   "source": [
    "mag_fr1 = np.hstack([mag_abs[idx_fr1], mag_abs[idx2_same]])\n",
    "mag_fr2 = np.hstack([mag_abs[idx_fr2], mag_abs[idx3_same]])\n",
    "lumo_fr1 = np.hstack([lumo[idx_fr1], lumo[idx2_same]]) * 10 ** -22\n",
    "lumo_fr2 = np.hstack([lumo[idx_fr2], lumo[idx3_same]]) * 10 ** -22"
   ]
  },
  {
   "cell_type": "code",
   "execution_count": null,
   "metadata": {
    "collapsed": true
   },
   "outputs": [],
   "source": [
    "# histogram and curvefitting\n",
    "[num_fr1,edge_fr1] = np.histogram(np.log10(lumo_fr1), bins=np.arange(1,6,0.2))\n",
    "[num_fr2,edge_fr2] = np.histogram(np.log10(lumo_fr2), bins=np.arange(1,6,0.2))"
   ]
  },
  {
   "cell_type": "markdown",
   "metadata": {},
   "source": [
    "## Compare curves"
   ]
  },
  {
   "cell_type": "code",
   "execution_count": null,
   "metadata": {},
   "outputs": [],
   "source": [
    "from imp import reload\n",
    "reload(utils)"
   ]
  },
  {
   "cell_type": "code",
   "execution_count": null,
   "metadata": {
    "collapsed": true
   },
   "outputs": [],
   "source": [
    "x_fr1_t,y_fr1_t = utils.draw_step(num_fr1_typical,edge_fr1_typical)\n",
    "x_fr2_t,y_fr2_t = utils.draw_step(num_fr2_typical,edge_fr2_typical)"
   ]
  },
  {
   "cell_type": "code",
   "execution_count": null,
   "metadata": {
    "collapsed": true
   },
   "outputs": [],
   "source": [
    "x_fr1_l,y_fr1_l = utils.draw_step(num_fr1_like,edge_fr1_like)\n",
    "x_fr2_l,y_fr2_l = utils.draw_step(num_fr2_like,edge_fr2_like)"
   ]
  },
  {
   "cell_type": "code",
   "execution_count": null,
   "metadata": {
    "collapsed": true
   },
   "outputs": [],
   "source": [
    "x_fr1,y_fr1 = utils.draw_step(num_fr1,edge_fr1)\n",
    "x_fr2,y_fr2 = utils.draw_step(num_fr2,edge_fr2)"
   ]
  },
  {
   "cell_type": "code",
   "execution_count": null,
   "metadata": {},
   "outputs": [],
   "source": [
    "plt.rcParams[\"figure.figsize\"] = [16.0, 4.0]\n",
    "plt.subplot(131)\n",
    "plt.plot(x_fr1_t, y_fr1_t, 'r')\n",
    "plt.plot(x_fr2_t, y_fr2_t, 'b')\n",
    "plt.legend([\"FRI-typical\",\"FRII-typical\"])\n",
    "plt.ylabel(\"Normalized numbers\", fontsize=15)\n",
    "plt.xlabel(\"Luminosity (log10 $10^{22} \\mathrm{W} \\mathrm{Hz}^{-1}$)\",fontsize=15)\n",
    "plt.subplot(132)\n",
    "plt.plot(x_fr1_l, y_fr1_l, 'r')\n",
    "plt.plot(x_fr2_l, y_fr2_l, 'b')\n",
    "plt.legend([\"FRI-like\",\"FRII-like\"])\n",
    "plt.ylabel(\"Normalized numbers\", fontsize=15)\n",
    "plt.xlabel(\"Luminosity (log10 $10^{22} \\mathrm{W} \\mathrm{Hz}^{-1}$)\",fontsize=15)\n",
    "plt.subplot(133)\n",
    "plt.plot(x_fr1, y_fr1, 'r')\n",
    "plt.plot(x_fr2, y_fr2, 'b')\n",
    "plt.legend([\"FRI\",\"FRII\"])\n",
    "plt.ylabel(\"Normalized numbers\", fontsize=15)\n",
    "plt.xlabel(\"Luminosity (log10 $10^{22} \\mathrm{W} \\mathrm{Hz}^{-1}$)\",fontsize=15)"
   ]
  },
  {
   "cell_type": "code",
   "execution_count": null,
   "metadata": {},
   "outputs": [],
   "source": [
    "plt.rcParams[\"figure.figsize\"] = [16.0, 5.0]\n",
    "plt.subplot(131)\n",
    "plt.scatter(mag_fr1_typical,np.log10(lumo_fr1_typical),c='r',marker='+',s=10)\n",
    "plt.scatter(mag_fr2_typical,np.log10(lumo_fr2_typical),c='b',marker='^',s=10)\n",
    "plt.ylabel(\"Luminosity (log10 $10^{22} \\mathrm{W}\\mathrm{Hz}^{-1}$)\",fontsize=12)\n",
    "plt.xlabel(\"Magnitude\",fontsize=12)\n",
    "plt.xlim([-25, -20])\n",
    "plt.ylim([1,6])\n",
    "plt.legend((\"FRI-typical\",\"FRII-typical\"),fontsize=12)\n",
    "\n",
    "plt.subplot(132)\n",
    "plt.scatter(mag_fr1_like,np.log10(lumo_fr1_like),c='r',marker='+',s=10)\n",
    "plt.scatter(mag_fr2_like,np.log10(lumo_fr2_like),c='b',marker='^',s=10)\n",
    "plt.ylabel(\"Luminosity (log10 $10^{22} \\mathrm{W}\\mathrm{Hz}^{-1}$)\",fontsize=12)\n",
    "plt.xlabel(\"Magnitude\",fontsize=12)\n",
    "plt.xlim([-25, -20])\n",
    "plt.ylim([1,6])\n",
    "plt.legend((\"FRI-like\",\"FRII-like\"),fontsize=12)\n",
    "\n",
    "plt.subplot(133)\n",
    "plt.scatter(mag_fr1,np.log10(lumo_fr1),c='r',marker='+',s=10)\n",
    "plt.scatter(mag_fr2,np.log10(lumo_fr2),c='b',marker='^',s=10)\n",
    "plt.ylabel(\"Luminosity (log10 $10^{22} \\mathrm{W}\\mathrm{Hz}^{-1}$)\",fontsize=12)\n",
    "plt.xlabel(\"Magnitude\",fontsize=12)\n",
    "plt.xlim([-25, -20])\n",
    "plt.ylim([1,6])\n",
    "plt.legend((\"FRI\",\"FRII\"),fontsize=12)"
   ]
  },
  {
   "cell_type": "code",
   "execution_count": null,
   "metadata": {},
   "outputs": [],
   "source": [
    "plt.rcParams[\"figure.figsize\"] = [12.0, 7.0]\n",
    "plt.subplot(121)\n",
    "plt.scatter(mag_fr1_typical,np.log10(lumo_fr1_typical),c='r',marker='+',s=10)\n",
    "plt.scatter(mag_fr2_typical,np.log10(lumo_fr2_typical),c='b',marker='^',s=10)\n",
    "plt.ylabel(\"Luminosity (log10 $10^{22} \\mathrm{W}\\mathrm{Hz}^{-1}$)\",fontsize=15)\n",
    "plt.xlabel(\"Magnitude\",fontsize=15)\n",
    "plt.xlim([-25, -20])\n",
    "plt.ylim([1,6])\n",
    "plt.legend((\"FRI-typical\",\"FRII-typical\"),fontsize=15)\n",
    "\n",
    "plt.subplot(122)\n",
    "plt.plot(y_fr1_t, x_fr1_t, 'r')\n",
    "plt.plot(y_fr2_t, x_fr2_t, 'b')\n",
    "plt.legend([\"FRI-typical\",\"FRII-typical\"],fontsize=15)\n",
    "plt.xlabel(\"Normalized numbers\", fontsize=15)\n",
    "# plt.ylabel(\"Luminosity (log10 $10^{22} \\mathrm{W} \\mathrm{Hz}^{-1}$)\",fontsize=12)"
   ]
  },
  {
   "cell_type": "code",
   "execution_count": null,
   "metadata": {},
   "outputs": [],
   "source": [
    "plt.rcParams[\"figure.figsize\"] = [12.0, 7.0]\n",
    "plt.subplot(121)\n",
    "plt.scatter(mag_fr1_like,np.log10(lumo_fr1_like),c='r',marker='+',s=10)\n",
    "plt.scatter(mag_fr2_like,np.log10(lumo_fr2_like),c='b',marker='^',s=10)\n",
    "plt.ylabel(\"Luminosity (log10 $10^{22} \\mathrm{W}\\mathrm{Hz}^{-1}$)\",fontsize=15)\n",
    "plt.xlabel(\"Magnitude\",fontsize=15)\n",
    "plt.xlim([-25, -20])\n",
    "plt.ylim([1,6])\n",
    "plt.legend((\"FRI-like\",\"FRII-like\"),fontsize=15)\n",
    "\n",
    "plt.subplot(122)\n",
    "plt.plot(y_fr1_l, x_fr1_l, 'r')\n",
    "plt.plot(y_fr2_l, x_fr2_l, 'b')\n",
    "plt.legend([\"FRI-like\",\"FRII-like\"],fontsize=15)\n",
    "plt.xlabel(\"Normalized numbers\", fontsize=15)\n",
    "# plt.ylabel(\"Luminosity (log10 $10^{22} \\mathrm{W} \\mathrm{Hz}^{-1}$)\",fontsize=12)"
   ]
  },
  {
   "cell_type": "code",
   "execution_count": null,
   "metadata": {},
   "outputs": [],
   "source": [
    "plt.rcParams[\"figure.figsize\"] = [12.0, 7.0]\n",
    "plt.subplot(121)\n",
    "plt.scatter(mag_fr1,np.log10(lumo_fr1),c='r',marker='+',s=10)\n",
    "plt.scatter(mag_fr2,np.log10(lumo_fr2),c='b',marker='^',s=10)\n",
    "plt.ylabel(\"Luminosity (log10 $10^{22} \\mathrm{W}\\mathrm{Hz}^{-1}$)\",fontsize=15)\n",
    "plt.xlabel(\"Magnitude\",fontsize=15)\n",
    "plt.xlim([-25, -20])\n",
    "plt.ylim([1,6])\n",
    "plt.legend((\"FRI\",\"FRII\"),fontsize=15)\n",
    "\n",
    "plt.subplot(122)\n",
    "plt.plot(y_fr1, x_fr1, 'r')\n",
    "plt.plot(y_fr2, x_fr2, 'b')\n",
    "plt.legend([\"FRI\",\"FRII\"],fontsize=15)\n",
    "plt.xlabel(\"Normalized numbers\", fontsize=15)\n",
    "# plt.ylabel(\"Luminosity (log10 $10^{22} \\mathrm{W} \\mathrm{Hz}^{-1}$)\",fontsize=12)"
   ]
  },
  {
   "cell_type": "code",
   "execution_count": null,
   "metadata": {
    "collapsed": true
   },
   "outputs": [],
   "source": []
  }
 ],
 "metadata": {
  "kernelspec": {
   "display_name": "Python 3",
   "language": "python",
   "name": "python3"
  },
  "language_info": {
   "codemirror_mode": {
    "name": "ipython",
    "version": 3
   },
   "file_extension": ".py",
   "mimetype": "text/x-python",
   "name": "python",
   "nbconvert_exporter": "python",
   "pygments_lexer": "ipython3",
   "version": "3.5.2+"
  }
 },
 "nbformat": 4,
 "nbformat_minor": 2
}
