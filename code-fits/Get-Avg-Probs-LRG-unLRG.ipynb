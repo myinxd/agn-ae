{
 "cells": [
  {
   "cell_type": "code",
   "execution_count": 4,
   "metadata": {
    "collapsed": true
   },
   "outputs": [],
   "source": [
    "# 1. Calc the averaged probabilities of the samples\n",
    "# 2. Obtain the mode label"
   ]
  },
  {
   "cell_type": "code",
   "execution_count": 2,
   "metadata": {
    "collapsed": true
   },
   "outputs": [],
   "source": [
    "import os\n",
    "import pandas as pd"
   ]
  },
  {
   "cell_type": "code",
   "execution_count": 3,
   "metadata": {
    "collapsed": true
   },
   "outputs": [],
   "source": [
    "import numpy as np"
   ]
  },
  {
   "cell_type": "code",
   "execution_count": 5,
   "metadata": {
    "collapsed": true
   },
   "outputs": [],
   "source": [
    "fold_lrg = \"./result-LRG-171110/\"\n",
    "fold_unlrg = \"./result-unLRG-171110/\""
   ]
  },
  {
   "cell_type": "code",
   "execution_count": 8,
   "metadata": {},
   "outputs": [],
   "source": [
    "# load the data\n",
    "num_lrg = 1515\n",
    "num_sub = 9\n",
    "label_lrg = np.zeros((num_lrg, num_sub))\n",
    "label_lrg_bt = np.zeros((num_lrg, num_sub))\n",
    "prob_lrg = np.zeros((num_lrg, num_sub))\n",
    "for i in range(num_sub):\n",
    "    fname = \"code_LRG_%d.xlsx\" % i\n",
    "    data = pd.read_excel(os.path.join(fold_lrg, fname))\n",
    "    label_lrg[:,i] = data[\"types\"]\n",
    "    label_lrg_bt[:,i] = data[\"types_BT\"]\n",
    "    prob_lrg[:,i] = data[\"Possibility\"]"
   ]
  },
  {
   "cell_type": "code",
   "execution_count": 9,
   "metadata": {
    "collapsed": true
   },
   "outputs": [],
   "source": [
    "num_unlrg = 15300\n",
    "num_sub = 9\n",
    "label_unlrg = np.zeros((num_unlrg, num_sub))\n",
    "label_unlrg_bt = np.zeros((num_unlrg, num_sub))\n",
    "prob_unlrg = np.zeros((num_unlrg, num_sub))\n",
    "for i in range(num_sub):\n",
    "    fname = \"code_unLRG_%d.xlsx\" % i\n",
    "    data = pd.read_excel(os.path.join(fold_unlrg, fname))\n",
    "    label_unlrg[:,i] = data[\"types\"]\n",
    "    label_unlrg_bt[:,i] = data[\"types_BT\"]\n",
    "    prob_unlrg[:,i] = data[\"Possibility\"]"
   ]
  },
  {
   "cell_type": "code",
   "execution_count": 10,
   "metadata": {
    "collapsed": true
   },
   "outputs": [],
   "source": [
    "# Calc average or mode and save"
   ]
  },
  {
   "cell_type": "code",
   "execution_count": 12,
   "metadata": {},
   "outputs": [],
   "source": [
    "from scipy.stats import mode"
   ]
  },
  {
   "cell_type": "code",
   "execution_count": 40,
   "metadata": {
    "collapsed": true
   },
   "outputs": [],
   "source": [
    "label_lrg_mode = np.array(mode(label_lrg,axis=1))[0,:,0].astype(\"int\")\n",
    "label_lrg_bt_mode = np.array(mode(label_lrg_bt,axis=1))[0,:,0].astype(\"int\")\n",
    "prob_lrg_avg = np.mean(prob_lrg, axis=1)"
   ]
  },
  {
   "cell_type": "code",
   "execution_count": 28,
   "metadata": {},
   "outputs": [],
   "source": [
    "label_unlrg_mode = np.array(mode(label_unlrg,axis=1))[0,:,0].astype(\"int\")\n",
    "label_unlrg_bt_mode = np.array(mode(label_unlrg_bt,axis=1))[0,:,0].astype(\"int\")\n",
    "prob_unlrg_avg = np.mean(prob_unlrg, axis=1)"
   ]
  },
  {
   "cell_type": "code",
   "execution_count": 41,
   "metadata": {},
   "outputs": [],
   "source": [
    "# Recheck BT of 0\n",
    "id_lrg = (label_lrg_bt_mode==0) * (label_lrg_mode == 4)\n",
    "for i in np.where(id_lrg==1)[0]:\n",
    "    line_dezero = label_lrg_bt[i,:][label_lrg_bt[i,:]>0]\n",
    "    label_lrg_bt_mode[i] = int(mode(line_dezero)[0][0])"
   ]
  },
  {
   "cell_type": "code",
   "execution_count": 43,
   "metadata": {},
   "outputs": [],
   "source": [
    "id_unlrg = (label_unlrg_bt_mode==0) * (label_unlrg_mode == 4)\n",
    "for i in np.where(id_unlrg==1)[0]:\n",
    "    line_dezero = label_unlrg_bt[i,:][label_unlrg_bt[i,:]>0]\n",
    "    label_unlrg_bt_mode[i] = int(mode(line_dezero)[0][0])"
   ]
  },
  {
   "cell_type": "code",
   "execution_count": 44,
   "metadata": {
    "collapsed": true
   },
   "outputs": [],
   "source": [
    "# save\n",
    "result_lrg = {\"Type\": label_lrg_mode,\n",
    "              \"Type_BT\": label_lrg_bt_mode,\n",
    "              \"Probability\": prob_lrg_avg}\n",
    "dFrame = pd.DataFrame(result_lrg)\n",
    "dFrame.to_excel(\"./est_LRG_171110.xlsx\")"
   ]
  },
  {
   "cell_type": "code",
   "execution_count": 45,
   "metadata": {
    "collapsed": true
   },
   "outputs": [],
   "source": [
    "result_unlrg = {\"Type\": label_unlrg_mode,\n",
    "                \"Type_BT\": label_unlrg_bt_mode,\n",
    "                \"Probability\": prob_unlrg_avg}\n",
    "dFrame = pd.DataFrame(result_unlrg)\n",
    "dFrame.to_excel(\"./est_unLRG_171110.xlsx\")"
   ]
  },
  {
   "cell_type": "code",
   "execution_count": null,
   "metadata": {
    "collapsed": true
   },
   "outputs": [],
   "source": []
  }
 ],
 "metadata": {
  "kernelspec": {
   "display_name": "Python 3",
   "language": "python",
   "name": "python3"
  },
  "language_info": {
   "codemirror_mode": {
    "name": "ipython",
    "version": 3
   },
   "file_extension": ".py",
   "mimetype": "text/x-python",
   "name": "python",
   "nbconvert_exporter": "python",
   "pygments_lexer": "ipython3",
   "version": "3.5.2+"
  }
 },
 "nbformat": 4,
 "nbformat_minor": 2
}
